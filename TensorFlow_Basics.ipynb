{
  "nbformat": 4,
  "nbformat_minor": 0,
  "metadata": {
    "colab": {
      "provenance": []
    },
    "kernelspec": {
      "name": "python3",
      "display_name": "Python 3"
    },
    "language_info": {
      "name": "python"
    }
  },
  "cells": [
    {
      "cell_type": "code",
      "execution_count": null,
      "metadata": {
        "id": "oUhF8_8x_crK"
      },
      "outputs": [],
      "source": []
    },
    {
      "cell_type": "markdown",
      "source": [
        "## Tensor(Constant)"
      ],
      "metadata": {
        "id": "eZjoIQSA_kBN"
      }
    },
    {
      "cell_type": "code",
      "source": [
        "# tf.Tensor - 2 attributes:-> Tensor.shape,Tensor.dtype"
      ],
      "metadata": {
        "id": "Hx4eiv_U_oIN"
      },
      "execution_count": 1,
      "outputs": []
    },
    {
      "cell_type": "code",
      "source": [
        "import tensorflow as tf"
      ],
      "metadata": {
        "id": "3oQqvacLATAE"
      },
      "execution_count": 2,
      "outputs": []
    },
    {
      "cell_type": "code",
      "source": [
        "## Scalar or rank-0 tensor\n",
        "# A scalar contrains a single value and no axes\n",
        "\n",
        "rank_0_tensor = tf.constant(4)\n",
        "print(rank_0_tensor)"
      ],
      "metadata": {
        "colab": {
          "base_uri": "https://localhost:8080/"
        },
        "id": "ElgkhUPF_9-R",
        "outputId": "a414cf41-82d1-4995-ad93-eeb8240df511"
      },
      "execution_count": 3,
      "outputs": [
        {
          "output_type": "stream",
          "name": "stdout",
          "text": [
            "tf.Tensor(4, shape=(), dtype=int32)\n"
          ]
        }
      ]
    },
    {
      "cell_type": "code",
      "source": [
        "## vector or rank_1_ tensor\n",
        "# Is a line of values, A vector has one axis\n",
        "\n",
        "rank_1_tensor = tf.constant([4,3,5,6])\n",
        "print(rank_1_tensor)"
      ],
      "metadata": {
        "colab": {
          "base_uri": "https://localhost:8080/"
        },
        "id": "dIO3Oo0W_-DU",
        "outputId": "b35326d7-c60f-4ba2-f7af-e97a3dedf819"
      },
      "execution_count": 4,
      "outputs": [
        {
          "output_type": "stream",
          "name": "stdout",
          "text": [
            "tf.Tensor([4 3 5 6], shape=(4,), dtype=int32)\n"
          ]
        }
      ]
    },
    {
      "cell_type": "code",
      "source": [
        "## A \"matrix\" or rank_2_tensor\n",
        "# It has two axes\n",
        "\n",
        "rank_2_tensor = tf.constant([[1,2],[3,4,],[5,6]])\n",
        "print(rank_2_tensor)"
      ],
      "metadata": {
        "colab": {
          "base_uri": "https://localhost:8080/"
        },
        "id": "EBCRDXo9_-F2",
        "outputId": "db5141dd-92b2-4ee2-9004-4beb78f72e7a"
      },
      "execution_count": 5,
      "outputs": [
        {
          "output_type": "stream",
          "name": "stdout",
          "text": [
            "tf.Tensor(\n",
            "[[1 2]\n",
            " [3 4]\n",
            " [5 6]], shape=(3, 2), dtype=int32)\n"
          ]
        }
      ]
    },
    {
      "cell_type": "code",
      "source": [
        "rank_3_tensor = tf.constant([[[1,2],[3,4]]])\n",
        "print(rank_3_tensor)"
      ],
      "metadata": {
        "colab": {
          "base_uri": "https://localhost:8080/"
        },
        "id": "1a_lnpNM_-JQ",
        "outputId": "7e7fb1f7-fef8-4d1f-f80e-2d31dba8dd00"
      },
      "execution_count": 6,
      "outputs": [
        {
          "output_type": "stream",
          "name": "stdout",
          "text": [
            "tf.Tensor(\n",
            "[[[1 2]\n",
            "  [3 4]]], shape=(1, 2, 2), dtype=int32)\n"
          ]
        }
      ]
    },
    {
      "cell_type": "code",
      "source": [
        "rank_3 =tf.constant([[[1,3],[2,3],[3,4],[6,8]]])\n",
        "print(rank_3)"
      ],
      "metadata": {
        "colab": {
          "base_uri": "https://localhost:8080/"
        },
        "id": "z3hKz2MWCmyp",
        "outputId": "1a344bd6-cb9c-4c1b-ee7b-6cdeb9f86cac"
      },
      "execution_count": 7,
      "outputs": [
        {
          "output_type": "stream",
          "name": "stdout",
          "text": [
            "tf.Tensor(\n",
            "[[[1 3]\n",
            "  [2 3]\n",
            "  [3 4]\n",
            "  [6 8]]], shape=(1, 4, 2), dtype=int32)\n"
          ]
        }
      ]
    },
    {
      "cell_type": "code",
      "source": [
        "# convert a tensor to numpy array\n",
        "\n",
        "import numpy as np\n",
        "np.array(rank_3)\n"
      ],
      "metadata": {
        "colab": {
          "base_uri": "https://localhost:8080/"
        },
        "id": "vk7KHoOlCqd3",
        "outputId": "79c61558-2d17-43c1-b440-369fc03bb029"
      },
      "execution_count": 8,
      "outputs": [
        {
          "output_type": "execute_result",
          "data": {
            "text/plain": [
              "array([[[1, 3],\n",
              "        [2, 3],\n",
              "        [3, 4],\n",
              "        [6, 8]]], dtype=int32)"
            ]
          },
          "metadata": {},
          "execution_count": 8
        }
      ]
    },
    {
      "cell_type": "code",
      "source": [
        "tensor_1 = tf.constant([[1,2.3,3],[4,5,6]])\n",
        "print(tensor_1)\n",
        "print(tensor_1.shape)\n",
        "print(tensor_1.dtype)\n"
      ],
      "metadata": {
        "colab": {
          "base_uri": "https://localhost:8080/"
        },
        "id": "WGXx8Q5ODHK6",
        "outputId": "e80cbe99-51fd-45ec-a3b9-577ba6b7ae24"
      },
      "execution_count": 9,
      "outputs": [
        {
          "output_type": "stream",
          "name": "stdout",
          "text": [
            "tf.Tensor(\n",
            "[[1.  2.3 3. ]\n",
            " [4.  5.  6. ]], shape=(2, 3), dtype=float32)\n",
            "(2, 3)\n",
            "<dtype: 'float32'>\n"
          ]
        }
      ]
    },
    {
      "cell_type": "code",
      "source": [
        "# Addition\n",
        "tensor_1"
      ],
      "metadata": {
        "colab": {
          "base_uri": "https://localhost:8080/"
        },
        "id": "gQS286SaDinE",
        "outputId": "959d27b7-7330-46bd-a56a-34f533df3144"
      },
      "execution_count": 10,
      "outputs": [
        {
          "output_type": "execute_result",
          "data": {
            "text/plain": [
              "<tf.Tensor: shape=(2, 3), dtype=float32, numpy=\n",
              "array([[1. , 2.3, 3. ],\n",
              "       [4. , 5. , 6. ]], dtype=float32)>"
            ]
          },
          "metadata": {},
          "execution_count": 10
        }
      ]
    },
    {
      "cell_type": "code",
      "source": [
        "tensor_2 = tf.constant([[4,6,8],[4.2,2,6.1]])\n",
        "tensor_2"
      ],
      "metadata": {
        "colab": {
          "base_uri": "https://localhost:8080/"
        },
        "id": "IpIYemUaEFf8",
        "outputId": "11a5c9d9-a1c3-4544-8c34-41c8beeafabb"
      },
      "execution_count": 11,
      "outputs": [
        {
          "output_type": "execute_result",
          "data": {
            "text/plain": [
              "<tf.Tensor: shape=(2, 3), dtype=float32, numpy=\n",
              "array([[4. , 6. , 8. ],\n",
              "       [4.2, 2. , 6.1]], dtype=float32)>"
            ]
          },
          "metadata": {},
          "execution_count": 11
        }
      ]
    },
    {
      "cell_type": "code",
      "source": [
        "tensor_1+tensor_2"
      ],
      "metadata": {
        "colab": {
          "base_uri": "https://localhost:8080/"
        },
        "id": "JCR8e1zEETkY",
        "outputId": "afced3db-f0a9-45c3-d345-2743f1fe0bd9"
      },
      "execution_count": 12,
      "outputs": [
        {
          "output_type": "execute_result",
          "data": {
            "text/plain": [
              "<tf.Tensor: shape=(2, 3), dtype=float32, numpy=\n",
              "array([[ 5. ,  8.3, 11. ],\n",
              "       [ 8.2,  7. , 12.1]], dtype=float32)>"
            ]
          },
          "metadata": {},
          "execution_count": 12
        }
      ]
    },
    {
      "cell_type": "code",
      "source": [
        "5 * tensor_1"
      ],
      "metadata": {
        "colab": {
          "base_uri": "https://localhost:8080/"
        },
        "id": "JGibpOrvEZCs",
        "outputId": "f633d645-a6a3-4043-e718-4dc01bd304db"
      },
      "execution_count": 13,
      "outputs": [
        {
          "output_type": "execute_result",
          "data": {
            "text/plain": [
              "<tf.Tensor: shape=(2, 3), dtype=float32, numpy=\n",
              "array([[ 5. , 11.5, 15. ],\n",
              "       [20. , 25. , 30. ]], dtype=float32)>"
            ]
          },
          "metadata": {},
          "execution_count": 13
        }
      ]
    },
    {
      "cell_type": "code",
      "source": [
        "tf.transpose(tensor_1)"
      ],
      "metadata": {
        "colab": {
          "base_uri": "https://localhost:8080/"
        },
        "id": "Z4LV7OhPEcp9",
        "outputId": "3cfc5aaa-2ed9-485c-a1e4-81940abde74c"
      },
      "execution_count": 14,
      "outputs": [
        {
          "output_type": "execute_result",
          "data": {
            "text/plain": [
              "<tf.Tensor: shape=(3, 2), dtype=float32, numpy=\n",
              "array([[1. , 4. ],\n",
              "       [2.3, 5. ],\n",
              "       [3. , 6. ]], dtype=float32)>"
            ]
          },
          "metadata": {},
          "execution_count": 14
        }
      ]
    },
    {
      "cell_type": "code",
      "source": [
        "tensor_1 @ tf.transpose(tensor_1) # matrix multiplication"
      ],
      "metadata": {
        "colab": {
          "base_uri": "https://localhost:8080/"
        },
        "id": "HowxhiDMEjo3",
        "outputId": "f966f2a6-6062-43d0-f2b6-2e22b1732aea"
      },
      "execution_count": 15,
      "outputs": [
        {
          "output_type": "execute_result",
          "data": {
            "text/plain": [
              "<tf.Tensor: shape=(2, 2), dtype=float32, numpy=\n",
              "array([[15.29, 33.5 ],\n",
              "       [33.5 , 77.  ]], dtype=float32)>"
            ]
          },
          "metadata": {},
          "execution_count": 15
        }
      ]
    },
    {
      "cell_type": "code",
      "source": [
        "tf.matmul(tensor_1, tf.transpose(tensor_1)) # matrix multiplication"
      ],
      "metadata": {
        "colab": {
          "base_uri": "https://localhost:8080/"
        },
        "id": "q2QUiqhzEzMj",
        "outputId": "bd44ee91-c0be-4508-9808-672c197c766c"
      },
      "execution_count": 16,
      "outputs": [
        {
          "output_type": "execute_result",
          "data": {
            "text/plain": [
              "<tf.Tensor: shape=(2, 2), dtype=float32, numpy=\n",
              "array([[15.29, 33.5 ],\n",
              "       [33.5 , 77.  ]], dtype=float32)>"
            ]
          },
          "metadata": {},
          "execution_count": 16
        }
      ]
    },
    {
      "cell_type": "code",
      "source": [
        "tensor_1"
      ],
      "metadata": {
        "id": "JPK4VcK7FAZ6",
        "colab": {
          "base_uri": "https://localhost:8080/"
        },
        "outputId": "12ab237f-5f40-409d-de90-5a85cf23685f"
      },
      "execution_count": 17,
      "outputs": [
        {
          "output_type": "execute_result",
          "data": {
            "text/plain": [
              "<tf.Tensor: shape=(2, 3), dtype=float32, numpy=\n",
              "array([[1. , 2.3, 3. ],\n",
              "       [4. , 5. , 6. ]], dtype=float32)>"
            ]
          },
          "metadata": {},
          "execution_count": 17
        }
      ]
    },
    {
      "cell_type": "code",
      "source": [
        "tensor_4 = 5 * tensor_1\n",
        "tensor_4"
      ],
      "metadata": {
        "colab": {
          "base_uri": "https://localhost:8080/"
        },
        "id": "hvi-Jysd1cFz",
        "outputId": "59eea478-7537-4325-e045-84978af0a96f"
      },
      "execution_count": 18,
      "outputs": [
        {
          "output_type": "execute_result",
          "data": {
            "text/plain": [
              "<tf.Tensor: shape=(2, 3), dtype=float32, numpy=\n",
              "array([[ 5. , 11.5, 15. ],\n",
              "       [20. , 25. , 30. ]], dtype=float32)>"
            ]
          },
          "metadata": {},
          "execution_count": 18
        }
      ]
    },
    {
      "cell_type": "code",
      "source": [
        "tf.concat([tensor_1,tensor_4],axis =0)"
      ],
      "metadata": {
        "colab": {
          "base_uri": "https://localhost:8080/"
        },
        "id": "I5uwCmN71luM",
        "outputId": "25d22d2c-9afe-43d6-fac9-30313c251fe1"
      },
      "execution_count": 21,
      "outputs": [
        {
          "output_type": "execute_result",
          "data": {
            "text/plain": [
              "<tf.Tensor: shape=(4, 3), dtype=float32, numpy=\n",
              "array([[ 1. ,  2.3,  3. ],\n",
              "       [ 4. ,  5. ,  6. ],\n",
              "       [ 5. , 11.5, 15. ],\n",
              "       [20. , 25. , 30. ]], dtype=float32)>"
            ]
          },
          "metadata": {},
          "execution_count": 21
        }
      ]
    },
    {
      "cell_type": "code",
      "source": [
        "# tf.nn\n",
        "# TensorFlow 2.x - tf.keras.layers"
      ],
      "metadata": {
        "id": "dGl8O8G71s3Q"
      },
      "execution_count": null,
      "outputs": []
    },
    {
      "cell_type": "code",
      "source": [
        "tf.reduce_sum(tensor_1)   # sum of all elements in a tensor"
      ],
      "metadata": {
        "colab": {
          "base_uri": "https://localhost:8080/"
        },
        "id": "P9ydRSLB2eh-",
        "outputId": "4af7caec-a56c-4ba5-85fd-9ba25e2574e4"
      },
      "execution_count": 22,
      "outputs": [
        {
          "output_type": "execute_result",
          "data": {
            "text/plain": [
              "<tf.Tensor: shape=(), dtype=float32, numpy=21.3>"
            ]
          },
          "metadata": {},
          "execution_count": 22
        }
      ]
    },
    {
      "cell_type": "code",
      "source": [
        "li = tf.convert_to_tensor ([3,5,6,7]) # list to tensor\n",
        "li"
      ],
      "metadata": {
        "colab": {
          "base_uri": "https://localhost:8080/"
        },
        "id": "BJAqhqk42ek8",
        "outputId": "47d9c689-eb97-4b66-9c06-6ae0c7f382c7"
      },
      "execution_count": 23,
      "outputs": [
        {
          "output_type": "execute_result",
          "data": {
            "text/plain": [
              "<tf.Tensor: shape=(4,), dtype=int32, numpy=array([3, 5, 6, 7], dtype=int32)>"
            ]
          },
          "metadata": {},
          "execution_count": 23
        }
      ]
    },
    {
      "cell_type": "markdown",
      "source": [
        "## Variables"
      ],
      "metadata": {
        "id": "PC-SejKs3HjK"
      }
    },
    {
      "cell_type": "code",
      "source": [
        "var_1 = tf.Variable([4,3.4,6])"
      ],
      "metadata": {
        "id": "6Kc2CO832eoD"
      },
      "execution_count": 31,
      "outputs": []
    },
    {
      "cell_type": "code",
      "source": [
        "var_1"
      ],
      "metadata": {
        "colab": {
          "base_uri": "https://localhost:8080/"
        },
        "id": "KRStsxu42erX",
        "outputId": "8d475952-dac5-4a27-df61-3b926ecb82b0"
      },
      "execution_count": 32,
      "outputs": [
        {
          "output_type": "execute_result",
          "data": {
            "text/plain": [
              "<tf.Variable 'Variable:0' shape=(3,) dtype=float32, numpy=array([4. , 3.4, 6. ], dtype=float32)>"
            ]
          },
          "metadata": {},
          "execution_count": 32
        }
      ]
    },
    {
      "cell_type": "code",
      "source": [
        "var_1.assign_add([1,5,1])"
      ],
      "metadata": {
        "colab": {
          "base_uri": "https://localhost:8080/"
        },
        "id": "gce17sKc2eux",
        "outputId": "cee466e5-3d52-4351-ab6e-8f08b94534c2"
      },
      "execution_count": 33,
      "outputs": [
        {
          "output_type": "execute_result",
          "data": {
            "text/plain": [
              "<tf.Variable 'UnreadVariable' shape=(3,) dtype=float32, numpy=array([5. , 8.4, 7. ], dtype=float32)>"
            ]
          },
          "metadata": {},
          "execution_count": 33
        }
      ]
    },
    {
      "cell_type": "code",
      "source": [
        "var_1.assign([3,2,1])"
      ],
      "metadata": {
        "colab": {
          "base_uri": "https://localhost:8080/"
        },
        "id": "Wg7F4Iqc3weo",
        "outputId": "ae5cfa33-9ec6-4328-b1a5-ad0296622731"
      },
      "execution_count": 34,
      "outputs": [
        {
          "output_type": "execute_result",
          "data": {
            "text/plain": [
              "<tf.Variable 'UnreadVariable' shape=(3,) dtype=float32, numpy=array([3., 2., 1.], dtype=float32)>"
            ]
          },
          "metadata": {},
          "execution_count": 34
        }
      ]
    },
    {
      "cell_type": "code",
      "source": [
        "bool_variable =tf.Variable([False,True,False])\n",
        "bool_variable"
      ],
      "metadata": {
        "colab": {
          "base_uri": "https://localhost:8080/"
        },
        "id": "4gZzBWgy4PIi",
        "outputId": "b8bfed59-9f74-40e9-b247-dc2205eb8578"
      },
      "execution_count": 35,
      "outputs": [
        {
          "output_type": "execute_result",
          "data": {
            "text/plain": [
              "<tf.Variable 'Variable:0' shape=(3,) dtype=bool, numpy=array([False,  True, False])>"
            ]
          },
          "metadata": {},
          "execution_count": 35
        }
      ]
    },
    {
      "cell_type": "code",
      "source": [
        "complex_variable = tf.Variable([5+2j,1+3j])\n",
        "complex_variable"
      ],
      "metadata": {
        "colab": {
          "base_uri": "https://localhost:8080/"
        },
        "id": "O2cz41BT4lys",
        "outputId": "56f1f614-9e41-49f3-dd6d-58da7d5b4a1f"
      },
      "execution_count": 36,
      "outputs": [
        {
          "output_type": "execute_result",
          "data": {
            "text/plain": [
              "<tf.Variable 'Variable:0' shape=(2,) dtype=complex128, numpy=array([5.+2.j, 1.+3.j])>"
            ]
          },
          "metadata": {},
          "execution_count": 36
        }
      ]
    },
    {
      "cell_type": "code",
      "source": [],
      "metadata": {
        "id": "NJ7oaIrv41IR"
      },
      "execution_count": null,
      "outputs": []
    }
  ]
}